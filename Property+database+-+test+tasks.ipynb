{
 "cells": [
  {
   "cell_type": "code",
   "execution_count": 24,
   "metadata": {},
   "outputs": [
    {
     "name": "stdout",
     "output_type": "stream",
     "text": [
      "(4949,)\n"
     ]
    }
   ],
   "source": [
    "import psycopg2\n",
    "conn = psycopg2.connect(database=\"testbeladecoby\", user=\"test01\", password=\"test01\", host=\"127.0.0.1\", port=\"5432\")\n",
    "cursor = conn.cursor()\n",
    "# task 1\n",
    "cursor.execute(\"select count(*) from (SELECT DISTINCT unique_host_id from airbnb) as tmp1\")\n",
    "rows = cursor.fetchall()\n",
    "for row in rows:\n",
    "    print(row)"
   ]
  },
  {
   "cell_type": "code",
   "execution_count": 23,
   "metadata": {},
   "outputs": [
    {
     "name": "stdout",
     "output_type": "stream",
     "text": [
      "('Riley Park/Oakridge/Marpole/Sunset/Victoria-Fraser', 343)\n",
      "('Dunbar-Southlands/Arbutus-Ridge/Shaughnessy/South', 257)\n",
      "('Marpole/Kerrisdale', 74)\n",
      "('West End/English Bay', 165)\n",
      "('West End/Stanley Park', 56)\n",
      "('West End/Downtown', 1367)\n",
      "('Shaughnessy/South Cambie/Fairview/Mount Pleasant', 428)\n",
      "('Riley Park/Renfrew-Collingwood/Kensington-Cedar Co', 913)\n",
      "('Hastings-Sunrise/Grandview-Woodland/Strathcona/Dow', 768)\n",
      "('Fairview/Kitsilano/West Point Grey', 766)\n"
     ]
    }
   ],
   "source": [
    "# task 2 \n",
    "cursor.execute(\"select neighborhood_name, count(*) as unique_hosts from (SELECT DISTINCT unique_host_id,\\\n",
    "neighborhood_name from airbnb) as tmp1 group by neighborhood_name\")\n",
    "rows = cursor.fetchall()\n",
    "for row in rows:\n",
    "    print(row)"
   ]
  },
  {
   "cell_type": "code",
   "execution_count": 12,
   "metadata": {},
   "outputs": [
    {
     "name": "stdout",
     "output_type": "stream",
     "text": [
      "task 3 - none\n"
     ]
    }
   ],
   "source": [
    "# Considering the property always has only one true (documentary) host, other operating hosts \n",
    "# are either agents of true hosts or duplicates of true host\n",
    "# number of true (unique) hosts is always <= number of properties\n",
    "\n",
    "# E.g. we have 2 hosts - John and Mike. John has 2 properties (p1, p2) and Mike has 1 property (p3). \n",
    "# John and Mike are friends, so they list their own properties + properties of each other: \n",
    "# John - p1 \n",
    "# John - p3 \n",
    "# John - p2\n",
    "# Mike - p3\n",
    "# Mike - p1\n",
    "# Mike - p2\n",
    "# We can not say how many true hosts there are as we need further details of ownership. The identiсal listing would be in case if Mike does not own any properties and acts as John's agent only (or vice versa) \n",
    "# Please let me know if I am missing something about question 3. \n",
    "# Based on my suggestions above, this query is not possible without further information of ownership or agent's agreements\n",
    "\n",
    "print(\"task 3 - none\")"
   ]
  },
  {
   "cell_type": "code",
   "execution_count": 22,
   "metadata": {},
   "outputs": [
    {
     "name": "stdout",
     "output_type": "stream",
     "text": [
      "('air11638439', 'TZWKQCyM3WwjZS7O')\n",
      "('air12011482', 'TZWKQCyM3WwjZS7O')\n",
      "('air10056274', 'NTboeEYZyNqY0TkC')\n",
      "('hma121.4135340.4535520', 'VYU-bjy8gYqc9Ofx')\n",
      "('hma321.785295.1333233', 'TZWKQCyM3WwjZS7O')\n",
      "('air6338586', 'TZWKQCyM3WwjZS7O')\n",
      "('hma121.3671933.3686350', 'XdGYsMxcTAyBYcE1')\n",
      "('air98830', 'TZWKQCyM3WwjZS7O')\n",
      "('hma321.731847.1279785', 'TZWKQCyM3WwjZS7O')\n",
      "('air7838721', '4zSdOZjaKxwGuR9v')\n",
      "('hma321.883623.1431563', 'TZWKQCyM3WwjZS7O')\n",
      "('air11305987', 'TZWKQCyM3WwjZS7O')\n",
      "('air966003', 'aYNDmfPaf7r5LUOt')\n",
      "('hma321.731854.1279792', 'TZWKQCyM3WwjZS7O')\n",
      "('fli1439314', 'TZWKQCyM3WwjZS7O')\n",
      "('hma121.4282816.4691648', 'VYU-bjy8gYqc9Ofx')\n",
      "('air12705807', '0qzjBRFqkNavpjoM')\n",
      "('hma321.992443.1540399', 'P8Wv1h56AiPlOBn1')\n",
      "('air15772515', 'nMqspAbTx4SqYXB6')\n",
      "('air15663054', 'TZWKQCyM3WwjZS7O')\n",
      "('hma321.731852.1279790', 'TZWKQCyM3WwjZS7O')\n",
      "('hma121.4237505.4643940', 'XdGYsMxcTAyBYcE1')\n",
      "('hma121.4052775.4446731', 'TZWKQCyM3WwjZS7O')\n",
      "('hma321.761683.1309621', 'TZWKQCyM3WwjZS7O')\n",
      "('air15679358', 'TZWKQCyM3WwjZS7O')\n",
      "('hma321.731843.1279781', 'TZWKQCyM3WwjZS7O')\n",
      "('hma321.826335.1374273', 'TZWKQCyM3WwjZS7O')\n",
      "('air12138433', 'TZWKQCyM3WwjZS7O')\n",
      "('air2513511', 'aYNDmfPaf7r5LUOt')\n",
      "('air14278160', 'sR8UzQ6YFgQNF3Oy')\n",
      "('air14709805', 'TZWKQCyM3WwjZS7O')\n",
      "('air8941830', 'sR8UzQ6YFgQNF3Oy')\n",
      "('air15662538', 'TZWKQCyM3WwjZS7O')\n",
      "('fli1119161', 'TZWKQCyM3WwjZS7O')\n",
      "('air1365609', '0qzjBRFqkNavpjoM')\n",
      "('hma121.4047573.4440805', 'VYU-bjy8gYqc9Ofx')\n",
      "('hma321.731849.1279787', 'TZWKQCyM3WwjZS7O')\n",
      "('hma321.712015.1259953', 'bVB0hXN1StTQlec2')\n",
      "('hma121.4165473.4567446', 'VYU-bjy8gYqc9Ofx')\n",
      "('hma321.954026.1501972', 'aYNDmfPaf7r5LUOt')\n",
      "('hma321.915259.1463200', '4zSdOZjaKxwGuR9v')\n",
      "('hma121.4211107.4615234', 'XdGYsMxcTAyBYcE1')\n",
      "('air12652053', 'P8Wv1h56AiPlOBn1')\n",
      "('hma121.4221434.4626969', 'XdGYsMxcTAyBYcE1')\n",
      "('air15661470', 'TZWKQCyM3WwjZS7O')\n",
      "('air9733107', 'TZWKQCyM3WwjZS7O')\n",
      "('air14000169', 'TZWKQCyM3WwjZS7O')\n",
      "('air2977617', 'XdGYsMxcTAyBYcE1')\n",
      "('hma121.4045053.4438212', 'XdGYsMxcTAyBYcE1')\n",
      "('hma121.4282522.4691354', 'VYU-bjy8gYqc9Ofx')\n",
      "('air14250651', 'TZWKQCyM3WwjZS7O')\n",
      "('hma121.3648201.3662617', '0qzjBRFqkNavpjoM')\n",
      "('fli1077022', 'VYU-bjy8gYqc9Ofx')\n",
      "('air16111140', 'Gag0-zXBkEoyRR5R')\n",
      "('air6701512', 'nMqspAbTx4SqYXB6')\n",
      "('hma321.436846.1019908', 'TZWKQCyM3WwjZS7O')\n",
      "('hma321.1047305.1595425', 'LY3eAWQVonFhqG7j')\n",
      "('fli1718160', 'bVB0hXN1StTQlec2')\n",
      "('hma121.4195686.4598862', 'TZWKQCyM3WwjZS7O')\n",
      "('fli1136459', 'VYU-bjy8gYqc9Ofx')\n",
      "('hma321.731845.1279783', 'TZWKQCyM3WwjZS7O')\n",
      "('hma121.4145275.4546003', 'TZWKQCyM3WwjZS7O')\n",
      "('hma321.731837.1279775', 'TZWKQCyM3WwjZS7O')\n",
      "('air9028646', 'LY3eAWQVonFhqG7j')\n",
      "('air8925009', 'cvh1tHBHonumJSsI')\n",
      "('fli626948', '0qzjBRFqkNavpjoM')\n",
      "('air11338813', 'nMqspAbTx4SqYXB6')\n",
      "('air12680091', 'TZWKQCyM3WwjZS7O')\n",
      "('air16268895', 'Gag0-zXBkEoyRR5R')\n",
      "('air9463710', 'TZWKQCyM3WwjZS7O')\n",
      "('air8423293', 'nMqspAbTx4SqYXB6')\n",
      "('hma321.866584.1414523', 'TZWKQCyM3WwjZS7O')\n",
      "('hma121.4233036.4639257', 'TZWKQCyM3WwjZS7O')\n",
      "('air12522673', 'TZWKQCyM3WwjZS7O')\n",
      "('air8541289', 'TZWKQCyM3WwjZS7O')\n",
      "('hma611.1100800.1358333', 'cvh1tHBHonumJSsI')\n",
      "('air13601416', 'TZWKQCyM3WwjZS7O')\n",
      "('hma321.731838.1279776', 'TZWKQCyM3WwjZS7O')\n",
      "('hma321.731844.1279782', 'TZWKQCyM3WwjZS7O')\n",
      "('air1045344', 'TZWKQCyM3WwjZS7O')\n",
      "('air13194897', 'NTboeEYZyNqY0TkC')\n",
      "('hma121.4263989.4671734', 'XdGYsMxcTAyBYcE1')\n",
      "('hma321.760707.1308645', 'TZWKQCyM3WwjZS7O')\n",
      "('hma121.4284730.4693606', 'XdGYsMxcTAyBYcE1')\n",
      "('air2764812', 'cvh1tHBHonumJSsI')\n",
      "('hma321.989270.1537226', 'Gag0-zXBkEoyRR5R')\n",
      "('air13239302', 'TZWKQCyM3WwjZS7O')\n",
      "('hma321.731856.1279794', 'TZWKQCyM3WwjZS7O')\n",
      "('hma321.871581.1419520', 'TZWKQCyM3WwjZS7O')\n",
      "('hma321.841415.1389354', 'VYU-bjy8gYqc9Ofx')\n",
      "('hma321.816608.1364546', 'cvh1tHBHonumJSsI')\n",
      "('air3115703', 'TZWKQCyM3WwjZS7O')\n"
     ]
    }
   ],
   "source": [
    "# task 4 \n",
    "# The most relevant information to detect duplicates of properties is location data. As street address details is not available in the data sheet, we can use neighbourhood data: \n",
    "# I have found 92 listings based on criteria \"same property id belongs to two or more of different neighborhoods\": \n",
    "cursor.execute(\"select internal_listing_id,  external_property_id from airbnb where (select count(*) from (select DISTINCT neighborhood_name from airbnb as ab2 where ab2.external_property_id = airbnb.external_property_id) as tmp1) > 1\")\n",
    "rows = cursor.fetchall()\n",
    "for row in rows:\n",
    "    print(row)\n"
   ]
  },
  {
   "cell_type": "code",
   "execution_count": 21,
   "metadata": {},
   "outputs": [
    {
     "name": "stdout",
     "output_type": "stream",
     "text": [
      "('air11638439', 'TZWKQCyM3WwjZS7O')\n",
      "('air12011482', 'TZWKQCyM3WwjZS7O')\n",
      "('air10056274', 'NTboeEYZyNqY0TkC')\n"
     ]
    }
   ],
   "source": [
    "# the same query but with result limited to 3 listings as it was requested to in Upwork chat: \n",
    "cursor.execute(\"select internal_listing_id,  external_property_id from airbnb where (select count(*) from (select DISTINCT neighborhood_name from airbnb as ab2 where ab2.external_property_id = airbnb.external_property_id) as tmp1) > 1 limit 3\")\n",
    "rows = cursor.fetchall()\n",
    "for row in rows:\n",
    "    print(row)"
   ]
  },
  {
   "cell_type": "code",
   "execution_count": null,
   "metadata": {
    "collapsed": true
   },
   "outputs": [],
   "source": []
  }
 ],
 "metadata": {
  "kernelspec": {
   "display_name": "Python 3",
   "language": "python",
   "name": "python3"
  },
  "language_info": {
   "codemirror_mode": {
    "name": "ipython",
    "version": 3
   },
   "file_extension": ".py",
   "mimetype": "text/x-python",
   "name": "python",
   "nbconvert_exporter": "python",
   "pygments_lexer": "ipython3",
   "version": "3.6.1"
  }
 },
 "nbformat": 4,
 "nbformat_minor": 2
}
